{
 "cells": [
  {
   "cell_type": "code",
   "execution_count": 1,
   "id": "2b1d2348",
   "metadata": {
    "vscode": {
     "languageId": "plaintext"
    }
   },
   "outputs": [],
   "source": [
    "import numpy as np\n",
    "from matplotlib import pyplot as plt"
   ]
  },
  {
   "cell_type": "markdown",
   "id": "40777bb9-4b2e-45e0-8031-27514ce6422a",
   "metadata": {
    "vscode": {
     "languageId": "plaintext"
    }
   },
   "source": [
    "<h2>Demonstration of a hadamard gate on single qubit</h2>\n",
    "<img src='resources/nate/single_hadamard.png' width=\"200\"/>\n",
    "\n",
    "The hadamard is represented as a 2x2 matrix operator $\\frac{1}{\\sqrt(2)} \\begin{bmatrix}1&1\\\\1&-1 \\end{bmatrix}$\n",
    "\n",
    "A qubit is provided, initialized at state $\\ket{\\psi} = \\ket{0}$\n",
    "Hadamard is applied on the qubit, throwing it into superposition $\\frac{\\ket{0}+\\ket{1}}{\\sqrt{2}}$\n",
    "\n",
    "A measurement is then taken, collapsing the qubit to either state $\\ket{0}$ or $\\ket{1}$ with probability $|\\frac{1}{\\sqrt{2}}|^{2} = 0.5$ for both states."
   ]
  },
  {
   "cell_type": "code",
   "execution_count": null,
   "id": "7c7d08d0-c8e6-40c1-a414-1a27973bc6e0",
   "metadata": {},
   "outputs": [],
   "source": []
  }
 ],
 "metadata": {
  "kernelspec": {
   "display_name": "Python (Conda Base)",
   "language": "python",
   "name": "base"
  },
  "language_info": {
   "codemirror_mode": {
    "name": "ipython",
    "version": 3
   },
   "file_extension": ".py",
   "mimetype": "text/x-python",
   "name": "python",
   "nbconvert_exporter": "python",
   "pygments_lexer": "ipython3",
   "version": "3.12.8"
  }
 },
 "nbformat": 4,
 "nbformat_minor": 5
}
